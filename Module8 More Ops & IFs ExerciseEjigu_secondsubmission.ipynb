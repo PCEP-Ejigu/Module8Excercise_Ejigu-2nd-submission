{
 "cells": [
  {
   "cell_type": "markdown",
   "metadata": {},
   "source": [
    "### Exercise 1\n",
    "Ask for an exam score and store that number. If the number is greater than 100, then print out 'You cannot have an exam score higher than 100'. If the number doesn't exceeed 100 but is greater than or equal to 75, then print out 'You did great on your exam!'. Otherwise if they scored lower than 75, then print out 'You need to study harder'."
   ]
  },
  {
   "cell_type": "code",
   "execution_count": 11,
   "metadata": {},
   "outputs": [
    {
     "name": "stdout",
     "output_type": "stream",
     "text": [
      "Enter your score  86\n",
      "You did great on your exam!\n"
     ]
    }
   ],
   "source": [
    "score = int(input(\"Enter your score  \"))\n",
    "if score > 100 :\n",
    "    print(\"You cannot have an exam score higher than 100.\")\n",
    "elif score >= 75 :\n",
    "    print(\"You did great on your exam!\")\n",
    "else :\n",
    "    print(\"You need to study harder.\")\n",
    "    "
   ]
  },
  {
   "cell_type": "code",
   "execution_count": null,
   "metadata": {},
   "outputs": [],
   "source": [
    "\n",
    "  "
   ]
  },
  {
   "cell_type": "markdown",
   "metadata": {},
   "source": [
    "### Exercise 2\n",
    "Ask a user to enter two numbers and find their average. Then, print out the average and whether each number is below or above average. Determine if a function should be created or not.\n",
    "    "
   ]
  },
  {
   "cell_type": "code",
   "execution_count": 19,
   "metadata": {},
   "outputs": [
    {
     "name": "stdout",
     "output_type": "stream",
     "text": [
      "Enter the first number: 20\n",
      "Enter next number: 40\n",
      "the average of 20 and 40 is 30.0.\n"
     ]
    }
   ],
   "source": [
    "numb1 = 20\n",
    "numb2 = 40\n",
    "average = (40 + 20)/2\n",
    "\n",
    "numb1 = int(input(\"Enter the first number: \"))\n",
    "numb2 = int(input(\"Enter next number: \"))\n",
    "\n",
    "avg = (numb1 + numb2) / 2\n",
    "print(f\"the average of {numb1} and {numb2} is {avg}.\")"
   ]
  },
  {
   "cell_type": "code",
   "execution_count": 20,
   "metadata": {},
   "outputs": [],
   "source": [
    "def average(arg1, avg) :\n",
    "    if arg1 < avg :\n",
    "        print(f\"{arg1} is below the average\")\n",
    "    elif arg1 > avg :    \n",
    "        print(f\"{arg1} is above the average\")   \n",
    "    else :    \n",
    "        print(f\"{arg1} is equals to the average\")    \n",
    "    return    "
   ]
  },
  {
   "cell_type": "code",
   "execution_count": 21,
   "metadata": {},
   "outputs": [
    {
     "name": "stdout",
     "output_type": "stream",
     "text": [
      "20 is below the average\n",
      "40 is above the average\n"
     ]
    }
   ],
   "source": [
    "average(numb1, avg)\n",
    "average(numb2, avg)\n"
   ]
  },
  {
   "cell_type": "markdown",
   "metadata": {},
   "source": [
    "### Exercise 3\n",
    "Write a function to convert a test score to a grade where  \n",
    " - 90 - 100: A\n",
    " - 80 - 89:  B\n",
    " - 70 - 79:  C\n",
    " - 60 - 69:  D\n",
    " - < 60   :  F\n",
    " \n",
    "If a score is not between 0 and 100 then print out an error message. In the program, ask the user for a score and then call your function. "
   ]
  },
  {
   "cell_type": "code",
   "execution_count": 69,
   "metadata": {},
   "outputs": [],
   "source": [
    "def exam_result(score) :\n",
    "    if score > 100 :\n",
    "        print(\"Score must be between 0 and 100\")\n",
    "    elif score >= 90 :\n",
    "        print(\"You got A\")\n",
    "    elif score >= 80 :\n",
    "        print(\"You got B\")\n",
    "    elif socre >= 70 :\n",
    "        print(\"You got C\")\n",
    "    elif score >= 60 :\n",
    "        print(\"You got D\")\n",
    "    else : \n",
    "            print(\"You got F\")\n",
    "            \n",
    "    return()                  "
   ]
  },
  {
   "cell_type": "code",
   "execution_count": 70,
   "metadata": {},
   "outputs": [
    {
     "name": "stdout",
     "output_type": "stream",
     "text": [
      "Please enter your exam score: 98\n",
      "You got A\n",
      "()\n"
     ]
    }
   ],
   "source": [
    "score = int(input(\"Please enter your exam score: \"))    \n",
    "print(exam_result(score)) "
   ]
  },
  {
   "cell_type": "code",
   "execution_count": 71,
   "metadata": {},
   "outputs": [
    {
     "name": "stdout",
     "output_type": "stream",
     "text": [
      "Enter your exam score  83\n",
      "You got B\n",
      "()\n"
     ]
    }
   ],
   "source": [
    "score = int(input( \"Enter your exam score  \"))\n",
    "   \n",
    "print(exam_result(score)) "
   ]
  },
  {
   "cell_type": "markdown",
   "metadata": {},
   "source": [
    "### Exercise 4\n",
    "Convert following decimal number to a binary number by hand:\n",
    "\n",
    "    61\n",
    "    15\n",
    "    71\n",
    "    "
   ]
  },
  {
   "cell_type": "code",
   "execution_count": 57,
   "metadata": {},
   "outputs": [
    {
     "data": {
      "text/plain": [
       "1000111"
      ]
     },
     "execution_count": 57,
     "metadata": {},
     "output_type": "execute_result"
    }
   ],
   "source": [
    "0011 1101 # 61\n",
    "0000 1111 # 15\n",
    "0100 0111 # 71"
   ]
  },
  {
   "cell_type": "code",
   "execution_count": null,
   "metadata": {},
   "outputs": [],
   "source": []
  },
  {
   "cell_type": "markdown",
   "metadata": {},
   "source": [
    "### Exercise 5\n",
    "When a = 61 and b = 15, what is the result of following bitwise opertion? Use inline comments to show your result in a binary number. Find your answer by hand.\n",
    "\n",
    "    a & b\n",
    "    a | b\n",
    "    a ^ b\n",
    "    a >> 2\n",
    "    "
   ]
  },
  {
   "cell_type": "code",
   "execution_count": null,
   "metadata": {},
   "outputs": [],
   "source": [
    "0011 1101    # a = 61\n",
    "0000 1111    # b = 15\n",
    "0000 1101    # results of a & b = 13 "
   ]
  },
  {
   "cell_type": "code",
   "execution_count": null,
   "metadata": {},
   "outputs": [],
   "source": [
    "0011 1101    # a = 61\n",
    "0000 1111    # b = 15\n",
    "0011 1111    # results of a | b =  63 "
   ]
  },
  {
   "cell_type": "code",
   "execution_count": null,
   "metadata": {},
   "outputs": [],
   "source": [
    "0011 1101    # a = 61\n",
    "0000 1111    # b = 15\n",
    "0011 0010    # result  of a ^ b = 50"
   ]
  },
  {
   "cell_type": "code",
   "execution_count": null,
   "metadata": {},
   "outputs": [],
   "source": [
    "0011 1101    # a = 61\n",
    "\n",
    "0000 1111    # result  of a >> 2 = 15"
   ]
  },
  {
   "cell_type": "code",
   "execution_count": null,
   "metadata": {},
   "outputs": [],
   "source": []
  }
 ],
 "metadata": {
  "kernelspec": {
   "display_name": "Python 3 (ipykernel)",
   "language": "python",
   "name": "python3"
  },
  "language_info": {
   "codemirror_mode": {
    "name": "ipython",
    "version": 3
   },
   "file_extension": ".py",
   "mimetype": "text/x-python",
   "name": "python",
   "nbconvert_exporter": "python",
   "pygments_lexer": "ipython3",
   "version": "3.9.7"
  }
 },
 "nbformat": 4,
 "nbformat_minor": 4
}
